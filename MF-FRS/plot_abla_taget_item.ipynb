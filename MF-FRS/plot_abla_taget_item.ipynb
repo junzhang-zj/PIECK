{
 "cells": [
  {
   "cell_type": "code",
   "execution_count": 16,
   "metadata": {},
   "outputs": [],
   "source": [
    "import codecs\n",
    "import re # 正则表达模块\n",
    "import math\n",
    "import numpy as np\n",
    "import pandas as pd\n",
    "import matplotlib.pyplot as plt\n",
    "import matplotlib.style as psl\n",
    "from matplotlib.ticker import FuncFormatter\n",
    "from matplotlib.pyplot import MultipleLocator\n",
    "%matplotlib inline\n",
    "%config InlineBackend.figure_format = 'retina'"
   ]
  },
  {
   "cell_type": "code",
   "execution_count": 17,
   "metadata": {},
   "outputs": [],
   "source": [
    "def process(path):\n",
    "    f = codecs.open(path, mode='r', encoding='utf-8')  # 打开txt文件，以‘utf-8'编码读取\n",
    "    lines = f.readlines()         # 以行的形式进行读取文件\n",
    "    data = []\n",
    "    for i in range(len(lines)):\n",
    "        if lines[i][:9] == 'Iteration':\n",
    "            data.append(re.findall(r\"\\d+\\.?\\d*\",lines[i]))\n",
    "    # print(data)\n",
    "    for _ in range(3): # 统一第0轮列表的数字\n",
    "        data[0].insert(1,'0.0')\n",
    "    # for i in range(len(data)):\n",
    "    #     data[i] = np.array(data[i])\n",
    "    return data"
   ]
  },
  {
   "attachments": {},
   "cell_type": "markdown",
   "metadata": {},
   "source": [
    "1. 固定轮数, 不同防御方法下，攻击性能随恶意客户端比例的变化情况.(MF)"
   ]
  },
  {
   "cell_type": "code",
   "execution_count": 18,
   "metadata": {},
   "outputs": [],
   "source": [
    "def metric(path_list,epoch=2):\n",
    "    perform = np.zeros([2,len(path_list)])\n",
    "    idx = np.arange(1,epoch,1)\n",
    "    for i in range(len(path_list)):\n",
    "        data = np.array(process(path_list[i]))\n",
    "        att_data = data[idx][:,8].astype(float)\n",
    "        rs_data = data[idx][:,5].astype(float)\n",
    "        rs_max = max(rs_data)\n",
    "        perform[0][i] = rs_max\n",
    "        # perform[0][i] = rs_data[45]\n",
    "        rs_max_idx = np.where(rs_data == rs_max)[0][-1]\n",
    "        att_in_rs_max = att_data[rs_max_idx]\n",
    "        perform[1][i] = att_in_rs_max\n",
    "        # perform[1][i] = att_data[45]\n",
    "    return perform"
   ]
  },
  {
   "cell_type": "markdown",
   "metadata": {},
   "source": [
    "恶意用户比列"
   ]
  },
  {
   "cell_type": "code",
   "execution_count": null,
   "metadata": {},
   "outputs": [],
   "source": [
    "path_base = 'log/ML-100K/attack/ML-100K_NoAttack_NoDefense_0.00.txt'\n",
    "path0_0 = 'log/ML-100K/target_size/ML-100K_A-approx_NoDefense_0.15_Size10_target3.txt'\n",
    "path1_0 = 'log/ML-100K/target_size/ML-100K_A-approx_NoDefense_0.15_Size10_target5.txt'\n",
    "path2_0 = 'log/ML-100K/target_size/ML-100K_A-approx_Regula_0.15_Size10_target3.txt'\n",
    "path3_0 = 'log/ML-100K/target_size/ML-100K_A-approx_Regula_0.15_Size10_target5.txt'\n",
    "\n",
    "path0_1 = 'log/ML-100K/target_size/ML-100K_A-pop_NoDefense_0.15_Size50_target3.txt'\n",
    "path1_1 = 'log/ML-100K/target_size/ML-100K_A-pop_NoDefense_0.15_Size50_target5.txt'\n",
    "path2_1 = 'log/ML-100K/target_size/ML-100K_A-pop_Regula_0.15_Size50_target3.txt'\n",
    "path3_1 = 'log/ML-100K/target_size/ML-100K_A-pop_Regula_0.15_Size50_target5.txt'\n",
    "\n",
    "# path1_2 = 'log/ML-100K/EOMu/ML-100K_A-hum_Size10_Regula_Regusize10_IPE0e-0_UEA1e-0_0.05.txt'\n",
    "# path2_2 = 'log/ML-100K/EOMu/ML-100K_A-hum_Size10_Regula_Regusize10_IPE1e-0_UEA0e-0_0.05.txt'\n",
    "# path3_2 = 'log/ML-100K/EOMu/ML-100K_A-hum_Size10_Regula_Regusize10_IPE1e-0_UEA1e-0_0.05.txt'\n",
    "\n",
    "# 设置NumPy的打印选项\n",
    "np.set_printoptions(suppress=True, precision=2)\n",
    "\n",
    "path_list0 = [path_base,path0_0,path1_0,path2_0,path3_0]\n",
    "perform0 = metric(path_list0,epoch=151)\n",
    "print(np.round(perform0*100,2))\n",
    "\n",
    "path_list1 = [path0_1,path1_1,path2_1,path3_1]\n",
    "perform1 = metric(path_list1,epoch=151)\n",
    "print(np.round(perform1*100,2))\n",
    "\n",
    "# path_list2 = [path1_2,path2_2,path3_2]\n",
    "# print(np.round(perform2*100,2))\n"
   ]
  },
  {
   "cell_type": "code",
   "execution_count": 24,
   "metadata": {},
   "outputs": [
    {
     "name": "stdout",
     "output_type": "stream",
     "text": [
      "[[57.16 57.05 57.58 57.48 57.16 56.84]\n",
      " [ 0.23 77.68 75.61 57.09 39.55 32.7 ]]\n",
      "[[57.37 57.48 58.01 57.9  58.22]\n",
      " [ 0.8   0.8   0.46  0.05  0.02]]\n",
      "[[57.69 57.05 57.05 56.73 56.31]\n",
      " [94.76 92.72 87.33 85.24 81.84]]\n",
      "[[54.51 56.2  57.69 58.11 58.22]\n",
      " [ 0.34  0.    0.    0.13  0.13]]\n",
      "[[57.26 57.58 56.73 58.01]\n",
      " [59.16  0.21 54.76  2.33]]\n",
      "[[57.9  58.43 57.69 58.32]\n",
      " [93.93  0.5  97.65  0.34]]\n"
     ]
    }
   ],
   "source": [
    "\n",
    "path_base = 'log/ML-100K/EOQ/ML-100K_NoAttack_NoDefense_q1.txt'\n",
    "path0_0 = 'log/ML-100K/EOT/ML-100K_PIECKIPE_NoDefense_p0.05_T1_Size5_correct_size_for_kl-compute.txt'\n",
    "path1_0 = 'log/ML-100K/EOT/ML-100K_PIECKIPE_NoDefense_p0.05_T2_Size5_correct_size_for_kl-compute.txt'\n",
    "path2_0 = 'log/ML-100K/EOT/ML-100K_PIECKIPE_NoDefense_p0.05_T3_Size5_correct_size_for_kl-compute.txt'\n",
    "path3_0 = 'log/ML-100K/EOT/ML-100K_PIECKIPE_NoDefense_p0.05_T4_Size5_correct_size_for_kl-compute.txt'\n",
    "path4_0 = 'log/ML-100K/EOT/ML-100K_PIECKIPE_NoDefense_p0.05_T5_Size5_correct_size_for_kl-compute.txt'\n",
    "\n",
    "path0_1 = 'log/ML-100K/EOT/ML-100K_PIECKIPE_Regula_p0.05_T1_Size5_correct_size_for_kl-compute.txt'\n",
    "path1_1 = 'log/ML-100K/EOT/ML-100K_PIECKIPE_Regula_p0.05_T2_Size5_correct_size_for_kl-compute.txt'\n",
    "path2_1 = 'log/ML-100K/EOT/ML-100K_PIECKIPE_Regula_p0.05_T3_Size5_correct_size_for_kl-compute.txt'\n",
    "path3_1 = 'log/ML-100K/EOT/ML-100K_PIECKIPE_Regula_p0.05_T4_Size5_correct_size_for_kl-compute.txt'\n",
    "path4_1 = 'log/ML-100K/EOT/ML-100K_PIECKIPE_Regula_p0.05_T5_Size5_correct_size_for_kl-compute.txt'\n",
    "\n",
    "\n",
    "path0_2 = 'log/ML-100K/EOT/ML-100K_PIECKUEA_NoDefense_p0.05_T1_Size50_round3-bn5.txt'\n",
    "path1_2 = 'log/ML-100K/EOT/ML-100K_PIECKUEA_NoDefense_p0.05_T2_Size50_round3-bn5.txt'\n",
    "path2_2 = 'log/ML-100K/EOT/ML-100K_PIECKUEA_NoDefense_p0.05_T3_Size50_round3-bn5.txt'\n",
    "path3_2 = 'log/ML-100K/EOT/ML-100K_PIECKUEA_NoDefense_p0.05_T4_Size50_round3-bn5.txt'\n",
    "path4_2 = 'log/ML-100K/EOT/ML-100K_PIECKUEA_NoDefense_p0.05_T5_Size50_round3-bn5.txt'\n",
    "\n",
    "path0_3 = 'log/ML-100K/EOT/ML-100K_PIECKUEA_Regula_p0.05_T1_Size50_round3-bn5.txt'\n",
    "path1_3 = 'log/ML-100K/EOT/ML-100K_PIECKUEA_Regula_p0.05_T2_Size50_round3-bn5.txt'\n",
    "path2_3 = 'log/ML-100K/EOT/ML-100K_PIECKUEA_Regula_p0.05_T3_Size50_round3-bn5.txt'\n",
    "path3_3 = 'log/ML-100K/EOT/ML-100K_PIECKUEA_Regula_p0.05_T4_Size50_round3-bn5.txt'\n",
    "path4_3 = 'log/ML-100K/EOT/ML-100K_PIECKUEA_Regula_p0.05_T5_Size50_round3-bn5.txt'\n",
    "\n",
    "\n",
    "path0_4 = 'log/ML-100K/EOT/other_stra/ML-100K_PIECKIPE-repeat_NoDefense_p0.05_T3_Size15_correct_size_for_kl-compute.txt'\n",
    "path1_4 = 'log/ML-100K/EOT/other_stra/ML-100K_PIECKIPE-repeat_Regula_p0.05_T3_Size15_correct_size_for_kl-compute.txt'\n",
    "path2_4 = 'log/ML-100K/EOT/other_stra/ML-100K_PIECKIPE-repeat_NoDefense_p0.05_T5_Size15_correct_size_for_kl-compute.txt'\n",
    "path3_4 = 'log/ML-100K/EOT/other_stra/ML-100K_PIECKIPE-repeat_Regula_p0.05_T5_Size15_correct_size_for_kl-compute.txt'\n",
    "\n",
    "path0_5 = 'log/ML-100K/EOT/other_stra/ML-100K_PIECKUEA-repeat_NoDefense_p0.05_T3_Size250_round3-bn5.txt'\n",
    "path1_5 = 'log/ML-100K/EOT/other_stra/ML-100K_PIECKUEA-repeat_Regula_p0.05_T3_Size250_round3-bn5.txt'\n",
    "path2_5 = 'log/ML-100K/EOT/other_stra/ML-100K_PIECKUEA-repeat_NoDefense_p0.05_T5_Size250_round3-bn5.txt'\n",
    "path3_5 = 'log/ML-100K/EOT/other_stra/ML-100K_PIECKUEA-repeat_Regula_p0.05_T5_Size250_round3-bn5.txt'\n",
    "\n",
    "\n",
    "# 设置NumPy的打印选项\n",
    "np.set_printoptions(suppress=True, precision=2)\n",
    "\n",
    "path_list0 = [path_base,path0_0,path1_0,path2_0,path3_0,path4_0]\n",
    "perform0 = metric(path_list0,epoch=151)\n",
    "print(np.round(perform0*100,2))\n",
    "\n",
    "path_list1 = [path0_1,path1_1,path2_1,path3_1,path4_1]\n",
    "perform1 = metric(path_list1,epoch=151)\n",
    "print(np.round(perform1*100,2))\n",
    "\n",
    "path_list2 = [path0_2,path1_2,path2_2,path3_2,path4_2]\n",
    "perform2 = metric(path_list2,epoch=151)\n",
    "print(np.round(perform2*100,2))\n",
    "\n",
    "path_list3 = [path0_3,path1_3,path2_3,path3_3,path4_3]\n",
    "perform3 = metric(path_list3,epoch=151)\n",
    "print(np.round(perform3*100,2))\n",
    "\n",
    "path_list4 = [path0_4,path1_4,path2_4,path3_4]\n",
    "perform4 = metric(path_list4,epoch=151)\n",
    "print(np.round(perform4*100,2))\n",
    "\n",
    "path_list5 = [path0_5,path1_5,path2_5,path3_5]\n",
    "perform5 = metric(path_list5,epoch=151)\n",
    "print(np.round(perform5*100,2))\n",
    "# path_list2 = [path1_2,path2_2,path3_2]\n",
    "# print(np.round(perform2*100,2))\n"
   ]
  },
  {
   "cell_type": "code",
   "execution_count": 90,
   "metadata": {},
   "outputs": [
    {
     "name": "stdout",
     "output_type": "stream",
     "text": [
      "[[47.51 22.16 46.24 21.95]\n",
      " [93.96 55.13 90.89 55.69]]\n",
      "[[47.83 21.74]\n",
      " [ 0.    0.  ]]\n"
     ]
    }
   ],
   "source": [
    "path_base1 = 'log/ML-100K/Dynamiclr/ML-100K_NoAttack_NoDefense_clientlr1e-2_q.txt'\n",
    "path_base2 = 'log/ML-100K/Dynamiclr/ML-100K_NoAttack_NoDefense_clientlr0.0-1e-2-1e-0_q.txt'\n",
    "\n",
    "path0_0 = 'log/ML-100K/Dynamiclr/ML-100K_PIECKIPE_NoDefense_p0.05_clientlr1e-2_Size10.txt'\n",
    "path1_0 = 'log/ML-100K/Dynamiclr/ML-100K_PIECKIPE_NoDefense_p0.05_clientlr0.0-1e-2-1e-0_Size10.txt'\n",
    "path2_0 = 'log/ML-100K/Dynamiclr/ML-100K_PIECKUEA_NoDefense_p0.05_clientlr1e-2_Size50_round3-bn5.txt'\n",
    "path3_0 = 'log/ML-100K/Dynamiclr/ML-100K_PIECKUEA_NoDefense_p0.05_clientlr0.0-1e-2-1e-0_Size50_round3-bn5.txt'\n",
    "\n",
    "\n",
    "\n",
    "# 设置NumPy的打印选项\n",
    "np.set_printoptions(suppress=True, precision=2)\n",
    "\n",
    "path_list0 = [path0_0,path1_0,path2_0,path3_0]\n",
    "perform0 = metric(path_list0,epoch=101)\n",
    "print(np.round(perform0*100,2))\n",
    "\n",
    "\n",
    "path_base = [path_base1,path_base2]\n",
    "perform2 = metric(path_base,epoch=101)\n",
    "print(np.round(perform2*100,2))\n"
   ]
  },
  {
   "cell_type": "code",
   "execution_count": 8,
   "metadata": {},
   "outputs": [
    {
     "name": "stdout",
     "output_type": "stream",
     "text": [
      "[[57.26 57.48 56.95 54.08 53.45 54.08 52.92]\n",
      " [ 0.   83.14 90.21  4.67  0.   26.54  0.11]]\n"
     ]
    }
   ],
   "source": [
    "path0_0 = 'log/ML-100K/BPR/ML-100K_NoAttack_NoDefense_BPR.txt'\n",
    "path1_0 = 'log/ML-100K/BPR/ML-100K_PIECKIPE_NoDefense_p0.05_Size10.txt'\n",
    "path2_0 = 'log/ML-100K/BPR/ML-100K_PIECKUEA_NoDefense_p0.05_Size50_round10-bn5.txt'\n",
    "path3_0 = 'log/ML-100K/BPR/ML-100K_PIECKIPE_Regula-exp_ipemu1.25e-0_ueamu1.25e-0_p0.05_Size10.txt'\n",
    "path4_0 = 'log/ML-100K/BPR/ML-100K_PIECKUEA_Regula-exp_ipemu1.15e-0_ueamu1.15e-0_p0.05_Size50_round10-bn5.txt'\n",
    "path5_0 = 'log/ML-100K/BPR/ML-100K_PIECKIPE_Regula-exp_ipemu1.15e-0_ueamu1.15e-0_p0.05_Size10.txt'\n",
    "path6_0 = 'log/ML-100K/BPR/ML-100K_PIECKUEA_Regula-exp_ipemu1.25e-0_ueamu1.25e-0_p0.05_Size50_round10-bn5.txt'\n",
    "\n",
    "\n",
    "\n",
    "# 设置NumPy的打印选项\n",
    "np.set_printoptions(suppress=True, precision=2)\n",
    "\n",
    "path_list0 = [path0_0,path1_0,path2_0,path3_0,path4_0,path5_0,path6_0]\n",
    "perform0 = metric(path_list0,epoch=151)\n",
    "print(np.round(perform0*100,2))\n",
    "\n"
   ]
  },
  {
   "cell_type": "code",
   "execution_count": 4,
   "metadata": {},
   "outputs": [
    {
     "name": "stdout",
     "output_type": "stream",
     "text": [
      "[[57.16 60.45 62.14 61.4  60.98 62.04 61.4  59.7  59.49 57.26 57.05 55.99\n",
      "  55.57 55.67 53.34 52.7 ]\n",
      " [ 0.23  0.    0.    0.    0.    0.    0.    0.    0.    0.    0.    0.\n",
      "   0.    0.    0.    0.  ]]\n"
     ]
    }
   ],
   "source": [
    "path_base0 = 'log/ML-100K/EOQ/ML-100K_NoAttack_NoDefense_q1.txt'\n",
    "path_base1 = 'log/ML-100K/EOQ/ML-100K_NoAttack_NoDefense_q2.txt'\n",
    "path_base2 = 'log/ML-100K/EOQ/ML-100K_NoAttack_NoDefense_q3.txt'\n",
    "path_base3 = 'log/ML-100K/EOQ/ML-100K_NoAttack_NoDefense_q4.txt'\n",
    "path_base4 = 'log/ML-100K/EOQ/ML-100K_NoAttack_NoDefense_q5.txt'\n",
    "path_base5 = 'log/ML-100K/EOQ/ML-100K_NoAttack_NoDefense_q6.txt'\n",
    "path_base6 = 'log/ML-100K/EOQ/ML-100K_NoAttack_NoDefense_q7.txt'\n",
    "path_base7 = 'log/ML-100K/EOQ/ML-100K_NoAttack_NoDefense_q8.txt'\n",
    "path_base8 = 'log/ML-100K/EOQ/ML-100K_NoAttack_NoDefense_q9.txt'\n",
    "path_base9 = 'log/ML-100K/EOQ/ML-100K_NoAttack_NoDefense_q10.txt'\n",
    "path_base10 = 'log/ML-100K/EOQ/ML-100K_NoAttack_NoDefense_q11.txt'\n",
    "path_base11 = 'log/ML-100K/EOQ/ML-100K_NoAttack_NoDefense_q12.txt'\n",
    "path_base12 = 'log/ML-100K/EOQ/ML-100K_NoAttack_NoDefense_q13.txt'\n",
    "path_base13 = 'log/ML-100K/EOQ/ML-100K_NoAttack_NoDefense_q14.txt'\n",
    "path_base14 = 'log/ML-100K/EOQ/ML-100K_NoAttack_NoDefense_q15.txt'\n",
    "path_base15 = 'log/ML-100K/EOQ/ML-100K_NoAttack_NoDefense_q16.txt'\n",
    "\n",
    "\n",
    "# path0_0 = 'log/ML-100K/sample_ratio/ML-100K_A-approx_NoDefense_0.05_Size10_sample_ratio10_server1e-0_client1e-0.txt'\n",
    "# path1_0 = 'log/ML-100K/sample_ratio/ML-100K_A-approx_Regula_0.05_Size10_sample_ratio10_server1e-0_client1e-0.txt'\n",
    "# path2_0 = 'log/ML-100K/sample_ratio/ML-100K_A-pop_NoDefense_0.05_Size5_sample_ratio10_server1e-0_client1e-0.txt'\n",
    "# path3_0 = 'log/ML-100K/sample_ratio/ML-100K_A-pop_Regula_0.05_Size5_sample_ratio10_server1e-0_client1e-0.txt'\n",
    "\n",
    "# path0_1 = 'log/ML-100K/sample_ratio/ML-100K_A-approx_NoDefense_0.05_Size10_sample_ratio15_server1e-0_client1e-0.txt'\n",
    "# path1_1 = 'log/ML-100K/sample_ratio/ML-100K_A-approx_Regula_0.05_Size10_sample_ratio15_server1e-0_client1e-0.txt'\n",
    "# path2_1 = 'log/ML-100K/sample_ratio/ML-100K_A-pop_NoDefense_0.05_Size5_sample_ratio15_server1e-0_client1e-0.txt'\n",
    "# path3_1 = 'log/ML-100K/sample_ratio/ML-100K_A-pop_Regula_0.05_Size5_sample_ratio15_server1e-0_client1e-0.txt'\n",
    "\n",
    "# path1_2 = 'log/ML-100K/EOMu/ML-100K_A-hum_Size10_Regula_Regusize10_IPE0e-0_UEA1e-0_0.05.txt'\n",
    "# path2_2 = 'log/ML-100K/EOMu/ML-100K_A-hum_Size10_Regula_Regusize10_IPE1e-0_UEA0e-0_0.05.txt'\n",
    "# path3_2 = 'log/ML-100K/EOMu/ML-100K_A-hum_Size10_Regula_Regusize10_IPE1e-0_UEA1e-0_0.05.txt'\n",
    "\n",
    "# 设置NumPy的打印选项\n",
    "# np.set_printoptions(suppress=True, precision=2)\n",
    "\n",
    "# path_list0 = [path0_0,path1_0,path2_0,path3_0]\n",
    "# perform0 = metric(path_list0,epoch=151)\n",
    "# print(np.round(perform0*100,2))\n",
    "\n",
    "# path_list1 = [path0_1,path1_1,path2_1,path3_1]\n",
    "# perform1 = metric(path_list1,epoch=151)\n",
    "# print(np.round(perform1*100,2))\n",
    "\n",
    "path_base = [path_base0,path_base1,path_base2,path_base3,path_base4,path_base5,path_base6,path_base7,\n",
    "             path_base8,path_base9,path_base10,path_base11,path_base12,path_base13,path_base14,path_base15]\n",
    "perform2 = metric(path_base,epoch=151)\n",
    "print(np.round(perform2*100,2))\n"
   ]
  },
  {
   "cell_type": "code",
   "execution_count": 7,
   "metadata": {},
   "outputs": [
    {
     "data": {
      "image/png": "[encoded data removed]",
      "text/plain": [
       "<Figure size 600x200 with 1 Axes>"
      ]
     },
     "metadata": {
      "image/png": {
       "height": 188,
       "width": 589
      }
     },
     "output_type": "display_data"
    }
   ],
   "source": [
    "import matplotlib.pyplot as plt\n",
    "\n",
    "plt.subplots(figsize=(6, 2))\n",
    "\n",
    "x = np.arange(1,17,1)\n",
    "y = [57.16, 60.45, 62.14, 61.4, 60.98, 62.04, 61.4, 59.7,  59.49, 57.26, 57.05, 55.99, 55.57, 55.67, 53.34, 52.7]\n",
    "\n",
    "plt.axhline(y=57.16, color='#8B0000', linewidth=1.5, linestyle='--', label='HR@10=57.16')\n",
    "plt.plot(x, y, color='#0063B1', linewidth=1, linestyle='-', marker='o', markersize=8, markeredgecolor='black', markeredgewidth=1, markerfacecolor='white')\n",
    "\n",
    "plt.ylim(50, 65)\n",
    "plt.xlabel('Sample ratio $q$')\n",
    "plt.ylabel('HR@10')\n",
    "plt.grid(alpha=0.3)\n",
    "\n",
    "# 添加标签\n",
    "for i in range(len(x)):\n",
    "    if x[i] in [1, 11, 16]:\n",
    "        plt.text(x[i], y[i]+0.7, f'{y[i]:.2f}', ha='center', va='bottom', fontsize=8, color='black')\n",
    "# 显示图例\n",
    "plt.legend(loc='upper right')\n",
    "plt.tight_layout()\n",
    "plt.savefig(\"attack_q.pdf\")\n"
   ]
  },
  {
   "cell_type": "code",
   "execution_count": 48,
   "metadata": {},
   "outputs": [
    {
     "name": "stdout",
     "output_type": "stream",
     "text": [
      "[[57.16 57.26 57.05 55.99 57.58 57.79 55.99 54.51]\n",
      " [ 0.23  0.    0.    0.   30.75 89.86  1.03  0.68]]\n"
     ]
    }
   ],
   "source": [
    "path_base0 = 'log/ML-100K/EOQ/ML-100K_NoAttack_NoDefense_q1.txt'\n",
    "path_base1 = 'log/ML-100K/EOQ/ML-100K_NoAttack_NoDefense_q10.txt'\n",
    "path_base2 = 'log/ML-100K/EOQ/ML-100K_NoAttack_NoDefense_q11.txt'\n",
    "path_base3 = 'log/ML-100K/EOQ/ML-100K_NoAttack_NoDefense_q12.txt'\n",
    "path0_1 = 'log/ML-100K/EOQ/ML-100K_PIECKIPE_NoDefense_p0.05_q10_Size10.txt'\n",
    "path0_2 = 'log/ML-100K/EOQ/ML-100K_PIECKUEA_NoDefense_p0.05_q10_Size15_round3-bn5.txt'\n",
    "path0_3 = 'log/ML-100K/EOQ/ML-100K_PIECKIPE_Regula_p0.05_q10_Size10.txt'\n",
    "path0_4 = 'log/ML-100K/EOQ/ML-100K_PIECKUEA_Regula_p0.05_q10_Size15_round3-bn5.txt'\n",
    "path_base = [path_base0,path_base1,path_base2,path_base3,path0_1,path0_2,path0_3,path0_4]\n",
    "perform2 = metric(path_base,epoch=151)\n",
    "print(np.round(perform2*100,2))\n"
   ]
  },
  {
   "cell_type": "code",
   "execution_count": 33,
   "metadata": {},
   "outputs": [
    {
     "data": {
      "text/plain": [
       "[0.23, 0.0, 0.0, 0.0]"
      ]
     },
     "execution_count": 33,
     "metadata": {},
     "output_type": "execute_result"
    }
   ],
   "source": [
    "NoAttack_HR"
   ]
  },
  {
   "cell_type": "code",
   "execution_count": 36,
   "metadata": {},
   "outputs": [
    {
     "data": {
      "image/png": "[encoded data removed]",
      "text/plain": [
       "<Figure size 400x400 with 2 Axes>"
      ]
     },
     "metadata": {
      "image/png": {
       "height": 390,
       "width": 389
      }
     },
     "output_type": "display_data"
    }
   ],
   "source": [
    "import numpy as np\n",
    "import matplotlib.pyplot as plt\n",
    "\n",
    "# 假设您已经定义了perform4和perform5数组\n",
    "NoAttack_ER = [57.16, 57.26, 57.05, 55.99 ]\n",
    "NoAttack_HR = [0.23,  0.,    0.,    0. ]\n",
    "x_labels = [1, 10, 11, 12]\n",
    "\n",
    "# Define the range and number of data points\n",
    "start_val = 1\n",
    "end_val = 15\n",
    "num_points = 4\n",
    "\n",
    "# Create an equally spaced array of data points\n",
    "x_values = np.linspace(start_val, end_val, num_points)\n",
    "\n",
    "# x轴标签仍保持为1、5、10和15\n",
    "x_labels = [1, 10, 11, 12]\n",
    "\n",
    "# noattack_hr = 0.5716\n",
    "\n",
    "fig, ax1 = plt.subplots(figsize=(4, 4))\n",
    "\n",
    "# Plot HR\n",
    "bar_width = 2\n",
    "ax2 = ax1.twinx()\n",
    "ax2.bar(x_values, NoAttack_HR, width=bar_width, color='#C1C1C1', edgecolor=\"black\", hatch='///', align='center', label='PIECKIPE[HR]')\n",
    "ax2.set_ylabel(\"HR@10\")\n",
    "ax2.legend(loc='lower right', bbox_to_anchor=(1, 0.0))\n",
    "ax2.set_ylim(-0.0, 1.00)\n",
    "\n",
    "# Plot ER\n",
    "ax1.plot(x_values, NoAttack_ER, color='#0063B1', linewidth=1, linestyle='-', marker='^', markersize=14, markeredgecolor='black', markeredgewidth=1, markerfacecolor='white', label='PIECKIPE[ER]')\n",
    "ax1.set_xlabel(\"Malicious Users Ratio (%)\")\n",
    "ax1.set_ylabel(\"ER@10\")\n",
    "ax1.set_xticks(x_values)  # 使用x_values作为x轴的数据点\n",
    "ax1.set_xticklabels(x_labels)  # 使用x_labels作为x轴的标签\n",
    "ax1.legend(loc='lower right', bbox_to_anchor=(1, 0.25), labelspacing=0.7)\n",
    "ax1.set_ylim(-0.05, 1.00)\n",
    "\n",
    "# Move ER plot and legend to the foreground\n",
    "ax1.set_zorder(ax2.get_zorder() + 1)\n",
    "ax1.patch.set_visible(False)\n",
    "\n",
    "ax1.grid(alpha=0.3)\n",
    "# ax2.grid(alpha=0.3)\n",
    "plt.tight_layout()\n",
    "# plt.savefig(\"attack_q.pdf\")\n",
    "plt.show()\n"
   ]
  },
  {
   "cell_type": "code",
   "execution_count": 59,
   "metadata": {},
   "outputs": [
    {
     "ename": "ValueError",
     "evalue": "shape mismatch: objects cannot be broadcast to a single shape.  Mismatch is between arg 0 with shape (4,) and arg 1 with shape (5,).",
     "output_type": "error",
     "traceback": [
      "\u001b[0;31m---------------------------------------------------------------------------\u001b[0m",
      "\u001b[0;31mValueError\u001b[0m                                Traceback (most recent call last)",
      "\u001b[1;32m/home/zj/PIECK/PIECK/MF-FRS/plot_abla_taget_item.ipynb 单元格 13\u001b[0m line \u001b[0;36m2\n\u001b[1;32m     <a href='vscode-notebook-cell://ssh-remote%2B10.214.208.43/home/zj/PIECK/PIECK/MF-FRS/plot_abla_taget_item.ipynb#X40sdnNjb2RlLXJlbW90ZQ%3D%3D?line=22'>23</a>\u001b[0m bar_width \u001b[39m=\u001b[39m \u001b[39m2\u001b[39m\n\u001b[1;32m     <a href='vscode-notebook-cell://ssh-remote%2B10.214.208.43/home/zj/PIECK/PIECK/MF-FRS/plot_abla_taget_item.ipynb#X40sdnNjb2RlLXJlbW90ZQ%3D%3D?line=23'>24</a>\u001b[0m ax2 \u001b[39m=\u001b[39m ax1\u001b[39m.\u001b[39mtwinx()\n\u001b[0;32m---> <a href='vscode-notebook-cell://ssh-remote%2B10.214.208.43/home/zj/PIECK/PIECK/MF-FRS/plot_abla_taget_item.ipynb#X40sdnNjb2RlLXJlbW90ZQ%3D%3D?line=24'>25</a>\u001b[0m ax2\u001b[39m.\u001b[39;49mbar(x_values, NoAttack_HR, width\u001b[39m=\u001b[39;49mbar_width, color\u001b[39m=\u001b[39;49m\u001b[39m'\u001b[39;49m\u001b[39m#C1C1C1\u001b[39;49m\u001b[39m'\u001b[39;49m, edgecolor\u001b[39m=\u001b[39;49m\u001b[39m\"\u001b[39;49m\u001b[39mblack\u001b[39;49m\u001b[39m\"\u001b[39;49m, hatch\u001b[39m=\u001b[39;49m\u001b[39m'\u001b[39;49m\u001b[39m///\u001b[39;49m\u001b[39m'\u001b[39;49m, align\u001b[39m=\u001b[39;49m\u001b[39m'\u001b[39;49m\u001b[39mcenter\u001b[39;49m\u001b[39m'\u001b[39;49m, label\u001b[39m=\u001b[39;49m\u001b[39m'\u001b[39;49m\u001b[39mNoAttack[HR]\u001b[39;49m\u001b[39m'\u001b[39;49m)\n\u001b[1;32m     <a href='vscode-notebook-cell://ssh-remote%2B10.214.208.43/home/zj/PIECK/PIECK/MF-FRS/plot_abla_taget_item.ipynb#X40sdnNjb2RlLXJlbW90ZQ%3D%3D?line=25'>26</a>\u001b[0m ax2\u001b[39m.\u001b[39mset_ylabel(\u001b[39m\"\u001b[39m\u001b[39mHR@10\u001b[39m\u001b[39m\"\u001b[39m, fontsize\u001b[39m=\u001b[39m\u001b[39m12\u001b[39m)\n\u001b[1;32m     <a href='vscode-notebook-cell://ssh-remote%2B10.214.208.43/home/zj/PIECK/PIECK/MF-FRS/plot_abla_taget_item.ipynb#X40sdnNjb2RlLXJlbW90ZQ%3D%3D?line=26'>27</a>\u001b[0m ax2\u001b[39m.\u001b[39mset_ylim(\u001b[39m-\u001b[39m\u001b[39m0.0\u001b[39m, \u001b[39m0.6\u001b[39m)\n",
      "File \u001b[0;32m~/miniconda3/envs/skipgpt2/lib/python3.10/site-packages/matplotlib/__init__.py:1442\u001b[0m, in \u001b[0;36m_preprocess_data.<locals>.inner\u001b[0;34m(ax, data, *args, **kwargs)\u001b[0m\n\u001b[1;32m   1439\u001b[0m \u001b[39m@functools\u001b[39m\u001b[39m.\u001b[39mwraps(func)\n\u001b[1;32m   1440\u001b[0m \u001b[39mdef\u001b[39;00m \u001b[39minner\u001b[39m(ax, \u001b[39m*\u001b[39margs, data\u001b[39m=\u001b[39m\u001b[39mNone\u001b[39;00m, \u001b[39m*\u001b[39m\u001b[39m*\u001b[39mkwargs):\n\u001b[1;32m   1441\u001b[0m     \u001b[39mif\u001b[39;00m data \u001b[39mis\u001b[39;00m \u001b[39mNone\u001b[39;00m:\n\u001b[0;32m-> 1442\u001b[0m         \u001b[39mreturn\u001b[39;00m func(ax, \u001b[39m*\u001b[39;49m\u001b[39mmap\u001b[39;49m(sanitize_sequence, args), \u001b[39m*\u001b[39;49m\u001b[39m*\u001b[39;49mkwargs)\n\u001b[1;32m   1444\u001b[0m     bound \u001b[39m=\u001b[39m new_sig\u001b[39m.\u001b[39mbind(ax, \u001b[39m*\u001b[39margs, \u001b[39m*\u001b[39m\u001b[39m*\u001b[39mkwargs)\n\u001b[1;32m   1445\u001b[0m     auto_label \u001b[39m=\u001b[39m (bound\u001b[39m.\u001b[39marguments\u001b[39m.\u001b[39mget(label_namer)\n\u001b[1;32m   1446\u001b[0m                   \u001b[39mor\u001b[39;00m bound\u001b[39m.\u001b[39mkwargs\u001b[39m.\u001b[39mget(label_namer))\n",
      "File \u001b[0;32m~/miniconda3/envs/skipgpt2/lib/python3.10/site-packages/matplotlib/axes/_axes.py:2417\u001b[0m, in \u001b[0;36mAxes.bar\u001b[0;34m(self, x, height, width, bottom, align, **kwargs)\u001b[0m\n\u001b[1;32m   2414\u001b[0m     \u001b[39mif\u001b[39;00m yerr \u001b[39mis\u001b[39;00m \u001b[39mnot\u001b[39;00m \u001b[39mNone\u001b[39;00m:\n\u001b[1;32m   2415\u001b[0m         yerr \u001b[39m=\u001b[39m \u001b[39mself\u001b[39m\u001b[39m.\u001b[39m_convert_dx(yerr, y0, y, \u001b[39mself\u001b[39m\u001b[39m.\u001b[39mconvert_yunits)\n\u001b[0;32m-> 2417\u001b[0m x, height, width, y, linewidth, hatch \u001b[39m=\u001b[39m np\u001b[39m.\u001b[39;49mbroadcast_arrays(\n\u001b[1;32m   2418\u001b[0m     \u001b[39m# Make args iterable too.\u001b[39;49;00m\n\u001b[1;32m   2419\u001b[0m     np\u001b[39m.\u001b[39;49matleast_1d(x), height, width, y, linewidth, hatch)\n\u001b[1;32m   2421\u001b[0m \u001b[39m# Now that units have been converted, set the tick locations.\u001b[39;00m\n\u001b[1;32m   2422\u001b[0m \u001b[39mif\u001b[39;00m orientation \u001b[39m==\u001b[39m \u001b[39m'\u001b[39m\u001b[39mvertical\u001b[39m\u001b[39m'\u001b[39m:\n",
      "File \u001b[0;32m<__array_function__ internals>:180\u001b[0m, in \u001b[0;36mbroadcast_arrays\u001b[0;34m(*args, **kwargs)\u001b[0m\n",
      "File \u001b[0;32m~/miniconda3/envs/skipgpt2/lib/python3.10/site-packages/numpy/lib/stride_tricks.py:540\u001b[0m, in \u001b[0;36mbroadcast_arrays\u001b[0;34m(subok, *args)\u001b[0m\n\u001b[1;32m    533\u001b[0m \u001b[39m# nditer is not used here to avoid the limit of 32 arrays.\u001b[39;00m\n\u001b[1;32m    534\u001b[0m \u001b[39m# Otherwise, something like the following one-liner would suffice:\u001b[39;00m\n\u001b[1;32m    535\u001b[0m \u001b[39m# return np.nditer(args, flags=['multi_index', 'zerosize_ok'],\u001b[39;00m\n\u001b[1;32m    536\u001b[0m \u001b[39m#                  order='C').itviews\u001b[39;00m\n\u001b[1;32m    538\u001b[0m args \u001b[39m=\u001b[39m [np\u001b[39m.\u001b[39marray(_m, copy\u001b[39m=\u001b[39m\u001b[39mFalse\u001b[39;00m, subok\u001b[39m=\u001b[39msubok) \u001b[39mfor\u001b[39;00m _m \u001b[39min\u001b[39;00m args]\n\u001b[0;32m--> 540\u001b[0m shape \u001b[39m=\u001b[39m _broadcast_shape(\u001b[39m*\u001b[39;49margs)\n\u001b[1;32m    542\u001b[0m \u001b[39mif\u001b[39;00m \u001b[39mall\u001b[39m(array\u001b[39m.\u001b[39mshape \u001b[39m==\u001b[39m shape \u001b[39mfor\u001b[39;00m array \u001b[39min\u001b[39;00m args):\n\u001b[1;32m    543\u001b[0m     \u001b[39m# Common case where nothing needs to be broadcasted.\u001b[39;00m\n\u001b[1;32m    544\u001b[0m     \u001b[39mreturn\u001b[39;00m args\n",
      "File \u001b[0;32m~/miniconda3/envs/skipgpt2/lib/python3.10/site-packages/numpy/lib/stride_tricks.py:422\u001b[0m, in \u001b[0;36m_broadcast_shape\u001b[0;34m(*args)\u001b[0m\n\u001b[1;32m    417\u001b[0m \u001b[39m\u001b[39m\u001b[39m\"\"\"Returns the shape of the arrays that would result from broadcasting the\u001b[39;00m\n\u001b[1;32m    418\u001b[0m \u001b[39msupplied arrays against each other.\u001b[39;00m\n\u001b[1;32m    419\u001b[0m \u001b[39m\"\"\"\u001b[39;00m\n\u001b[1;32m    420\u001b[0m \u001b[39m# use the old-iterator because np.nditer does not handle size 0 arrays\u001b[39;00m\n\u001b[1;32m    421\u001b[0m \u001b[39m# consistently\u001b[39;00m\n\u001b[0;32m--> 422\u001b[0m b \u001b[39m=\u001b[39m np\u001b[39m.\u001b[39;49mbroadcast(\u001b[39m*\u001b[39;49margs[:\u001b[39m32\u001b[39;49m])\n\u001b[1;32m    423\u001b[0m \u001b[39m# unfortunately, it cannot handle 32 or more arguments directly\u001b[39;00m\n\u001b[1;32m    424\u001b[0m \u001b[39mfor\u001b[39;00m pos \u001b[39min\u001b[39;00m \u001b[39mrange\u001b[39m(\u001b[39m32\u001b[39m, \u001b[39mlen\u001b[39m(args), \u001b[39m31\u001b[39m):\n\u001b[1;32m    425\u001b[0m     \u001b[39m# ironically, np.broadcast does not properly handle np.broadcast\u001b[39;00m\n\u001b[1;32m    426\u001b[0m     \u001b[39m# objects (it treats them as scalars)\u001b[39;00m\n\u001b[1;32m    427\u001b[0m     \u001b[39m# use broadcasting to avoid allocating the full array\u001b[39;00m\n",
      "\u001b[0;31mValueError\u001b[0m: shape mismatch: objects cannot be broadcast to a single shape.  Mismatch is between arg 0 with shape (4,) and arg 1 with shape (5,)."
     ]
    },
    {
     "data": {
      "image/png": "[encoded data removed]",
      "text/plain": [
       "<Figure size 600x400 with 2 Axes>"
      ]
     },
     "metadata": {
      "image/png": {
       "height": 357,
       "width": 548
      }
     },
     "output_type": "display_data"
    }
   ],
   "source": [
    "import numpy as np\n",
    "import matplotlib.pyplot as plt\n",
    "\n",
    "# 假设您已经定义了perform4和perform5数组\n",
    "NoAttack_HR = [0.5716, 0.5726, 0.5705, 0.5599, 0.5324]\n",
    "NoAttack_ER = [0.0023, 0.,    0.,    0.,  0.0]\n",
    "x_labels = [1, 10, 11, 12, 15]\n",
    "\n",
    "# Define the range and number of data points\n",
    "start_val = 1\n",
    "end_val = 20\n",
    "num_points = 4\n",
    "\n",
    "# Create an equally spaced array of data points\n",
    "x_values = np.linspace(start_val, end_val, num_points)\n",
    "\n",
    "# x轴标签仍保持为1、10、11和12\n",
    "# x_labels = [1, 10, 11, 12]\n",
    "\n",
    "fig, ax1 = plt.subplots(figsize=(6, 4))\n",
    "\n",
    "# Plot HR\n",
    "bar_width = 2\n",
    "ax2 = ax1.twinx()\n",
    "ax2.bar(x_values, NoAttack_HR, width=bar_width, color='#C1C1C1', edgecolor=\"black\", hatch='///', align='center', label='NoAttack[HR]')\n",
    "ax2.set_ylabel(\"HR@10\", fontsize=12)\n",
    "ax2.set_ylim(-0.0, 0.6)\n",
    "\n",
    "# Plot ER\n",
    "ax1.plot(x_values, NoAttack_ER, color='#0063B1', linewidth=1, linestyle='-', marker='^', markersize=14, markeredgecolor='black', markeredgewidth=1, markerfacecolor='white', label='NoAttack[ER]')\n",
    "ax1.set_xlabel(\"Malicious Users Ratio (%)\", fontsize=12)\n",
    "ax1.set_ylabel(\"ER@10\", fontsize=12)\n",
    "ax1.set_xticks(x_values)  # 使用x_values作为x轴的数据点\n",
    "ax1.set_xticklabels(x_labels, fontsize=10)  # 使用x_labels作为x轴的标签\n",
    "ax1.set_ylim(-0.05, 1.00)\n",
    "\n",
    "# Move ER plot and legend to the foreground\n",
    "ax1.set_zorder(ax2.get_zorder() + 1)\n",
    "ax1.patch.set_visible(False)\n",
    "\n",
    "# 同时显示两个y轴的图例\n",
    "lines1, labels1 = ax1.get_legend_handles_labels()\n",
    "lines2, labels2 = ax2.get_legend_handles_labels()\n",
    "handles = lines1 + lines2\n",
    "labels = labels1 + labels2\n",
    "legend = ax1.legend(handles, labels, loc='upper right', bbox_to_anchor=(1, 1.0), fontsize=10, labelspacing=0.7)\n",
    "\n",
    "ax1.grid(alpha=0.3)\n",
    "plt.tight_layout()\n",
    "plt.show()\n"
   ]
  },
  {
   "cell_type": "markdown",
   "metadata": {},
   "source": [
    "BPR"
   ]
  },
  {
   "cell_type": "code",
   "execution_count": null,
   "metadata": {},
   "outputs": [],
   "source": [
    "path_base0 = 'log/ML-100K/attack/ML-100K_NoAttack_NoDefense_0.00.txt'\n",
    "path_base1 = 'log/ML-100K/bpr/ML-100K_NoAttack_NoDefense_0.0_Size0_target1_server1e-0_client1e-0_bpr.txt'\n",
    "\n",
    "path0_0 = 'log/ML-100K/bpr/ML-100K_A-pop-regabs_NoDefense_0.05_Size50_target1_server1e-0_client1e-0_bpr.txt'\n",
    "path1_0 = 'log/ML-100K/bpr/ML-100K_A-pop-regabs_Regula-exp-s10_0.05_Size50_target1_server1e-0_client1e-0_bpr_ipe0.5e+0_uea1.0e+0.txt'\n",
    "path2_0 = 'log/ML-100K/bpr/ML-100K_A-pop-regabs_Regula-exp-s10_0.05_Size50_target1_server1e-0_client1e-0_bpr_ipe1e+0_uea2e+0.txt'\n",
    "path3_0 = 'log/ML-100K/bpr/ML-100K_A-pop-regabs_Regula-exp-s10_0.05_Size50_target1_server1e-0_client1e-0_bpr_ipe0.5e+0_uea1.5e+0.txt'\n",
    "path4_0 = 'log/ML-100K/bpr/ML-100K_A-pop-regabs_Regula-exp-s10_0.05_Size50_target1_server1e-0_client1e-0_bpr_ipe0.8e+0_uea2.0e+0.txt'\n",
    "\n",
    "path0_1 = 'log/ML-100K/bpr/ML-100K_A-approx-regabs_NoDefense_0.05_Size10_target1_server1e-0_client1e-0_bpr.txt'\n",
    "path1_1 = 'log/ML-100K/bpr/ML-100K_A-approx-regabs_Regula-exp-s10_0.05_Size10_target1_server1e-0_client1e-0_bpr_ipe0.5e+0_uea1.0e+0.txt'\n",
    "path2_1 = 'log/ML-100K/bpr/ML-100K_A-approx-regabs_Regula-exp-s10_0.05_Size10_target1_server1e-0_client1e-0_bpr_ipe1e+0_uea2e+0.txt'\n",
    "path3_1 = 'log/ML-100K/bpr/ML-100K_A-approx-regabs_Regula-exp-s10_0.05_Size10_target1_server1e-0_client1e-0_bpr_ipe0.5e+0_uea1.5e+0.txt'\n",
    "path4_1 = 'log/ML-100K/bpr/ML-100K_A-approx-regabs_Regula-exp-s10_0.05_Size10_target1_server1e-0_client1e-0_bpr_ipe0.8e+0_uea2.0e+0.txt'\n",
    "\n",
    "# path1_2 = 'log/ML-100K/EOMu/ML-100K_A-hum_Size10_Regula_Regusize10_IPE0e-0_UEA1e-0_0.05.txt'\n",
    "# path2_2 = 'log/ML-100K/EOMu/ML-100K_A-hum_Size10_Regula_Regusize10_IPE1e-0_UEA0e-0_0.05.txt'\n",
    "# path3_2 = 'log/ML-100K/EOMu/ML-100K_A-hum_Size10_Regula_Regusize10_IPE1e-0_UEA1e-0_0.05.txt'\n",
    "\n",
    "# 设置NumPy的打印选项\n",
    "np.set_printoptions(suppress=True, precision=2)\n",
    "\n",
    "path_base = [path_base0,path_base1]\n",
    "perform_base = metric(path_base,epoch=151)\n",
    "print(np.round(perform_base*100,2))\n",
    "\n",
    "path_list0 = [path0_0,path1_0,path2_0,path3_0,path4_0]\n",
    "perform0 = metric(path_list0,epoch=151)\n",
    "print(np.round(perform0*100,2))\n",
    "\n",
    "path_list1 = [path0_1,path1_1,path2_1,path3_1,path4_1]\n",
    "perform1 = metric(path_list1,epoch=151)\n",
    "print(np.round(perform1*100,2))\n"
   ]
  },
  {
   "cell_type": "code",
   "execution_count": null,
   "metadata": {},
   "outputs": [],
   "source": [
    "from tabulate import tabulate\n",
    "\n",
    "# Data (assuming the data is multiplied by 100 before this step)\n",
    "data = [\n",
    "    [\"Method\", \"HR@10 (UEA)\", \"ER@10 (UEA)\", \"HR@10 (IPE)\", \"ER@10 (IPE)\", \"HR@10 (Our)\", \"ER@10 (Our)\"],\n",
    "    [\"PIECKIPE\", PIECKIPE_HR[0]*100, PIECKIPE_ER[0]*100, PIECKIPE_HR[1]*100, PIECKIPE_ER[1]*100, PIECKIPE_HR[2]*100, PIECKIPE_ER[2]*100],\n",
    "    [\"PIECKUEA\", PIECKUEA_HR[0]*100, PIECKUEA_ER[0]*100, PIECKUEA_HR[1]*100, PIECKUEA_ER[1]*100, PIECKUEA_HR[2]*100, PIECKUEA_ER[2]*100]\n",
    "]\n",
    "\n",
    "# Generate the LaTeX table\n",
    "latex_table = tabulate(data, tablefmt=\"latex\", floatfmt=\".2f\")\n",
    "\n",
    "# Print the LaTeX table\n",
    "print(latex_table)\n"
   ]
  },
  {
   "cell_type": "code",
   "execution_count": null,
   "metadata": {},
   "outputs": [],
   "source": [
    "import numpy as np\n",
    "import matplotlib.pyplot as plt\n",
    "\n",
    "# 假设您已经定义了perform4和perform5数组\n",
    "PIECKIPE_ER = perform0[1]\n",
    "PIECKIPE_HR = perform0[0]\n",
    "PIECKUEA_ER = perform1[1]\n",
    "PIECKUEA_HR = perform1[0]\n",
    "\n",
    "# Define the range and number of data points\n",
    "start_val = 1\n",
    "end_val = 15\n",
    "num_points = 4\n",
    "\n",
    "# Create an equally spaced array of data points\n",
    "x_values = np.linspace(start_val, end_val, num_points)\n",
    "\n",
    "# x轴标签仍保持为1、5、10和15\n",
    "x_labels = ['UEA', 'IPE', 'Our']\n",
    "\n",
    "noattack_hr = 0.5716\n",
    "\n",
    "fig, ax1 = plt.subplots(figsize=(4, 4))\n",
    "\n",
    "# Plot HR\n",
    "bar_width = 1\n",
    "ax2 = ax1.twinx()\n",
    "ax2.bar(np.subtract(x_values, bar_width/2), PIECKIPE_HR, width=bar_width, color='#C1C1C1', edgecolor=\"black\", hatch='///', align='center', label='PIECKIPE[HR]')\n",
    "ax2.bar(np.add(x_values, bar_width/2), PIECKUEA_HR, width=bar_width, color='#C1C1C1', edgecolor=\"black\", hatch='O', align='center', label='PIECKUEA[HR]')\n",
    "ax2.set_ylabel(\"HR@10\")\n",
    "ax2.axhline(y=noattack_hr, color='#8B0000', linewidth=1.5, linestyle='--', label='NoAttack[HR]')\n",
    "ax2.legend(loc='lower right', bbox_to_anchor=(1, 0.57))\n",
    "ax2.set_ylim(-0.0, 1.00)\n",
    "\n",
    "# Plot ER\n",
    "ax1.plot(x_values, PIECKIPE_ER, color='#0063B1', linewidth=1, linestyle='-', marker='^', markersize=14, markeredgecolor='black', markeredgewidth=1, markerfacecolor='white', label='PIECKIPE[ER]')\n",
    "ax1.plot(x_values, PIECKUEA_ER, color='#0063B1', linewidth=1, linestyle='-', marker='o', markersize=14, markeredgecolor='black', markeredgewidth=1, markerfacecolor='white', label='PIECKUEA[ER]')\n",
    "ax1.set_xlabel(\"Malicious Users Ratio (%)\")\n",
    "ax1.set_ylabel(\"ER@10\")\n",
    "ax1.set_xticks(x_values)  # 使用x_values作为x轴的数据点\n",
    "ax1.set_xticklabels(x_labels)  # 使用x_labels作为x轴的标签\n",
    "ax1.legend(loc='lower right', bbox_to_anchor=(1, 0.82), labelspacing=0.7)\n",
    "ax1.set_ylim(-0.05, 1.00)\n",
    "\n",
    "# Move ER plot and legend to the foreground\n",
    "ax1.set_zorder(ax2.get_zorder() + 1)\n",
    "ax1.patch.set_visible(False)\n",
    "\n",
    "ax1.grid(alpha=0.3)\n",
    "# ax2.grid(alpha=0.3)\n",
    "plt.tight_layout()\n",
    "# plt.savefig(\"defense_p_mf_ml-100k.pdf\")\n",
    "plt.show()\n"
   ]
  },
  {
   "cell_type": "markdown",
   "metadata": {},
   "source": [
    "流行项目集合数"
   ]
  },
  {
   "cell_type": "code",
   "execution_count": null,
   "metadata": {},
   "outputs": [],
   "source": [
    "path1_4 = 'log/ML-100K/EON/ML-100K_A-approx_Size10_Regula_Regusize5_IPE1e-0_UEA1e-0_0.05.txt'\n",
    "path2_4 = 'log/ML-100K/EON/ML-100K_A-approx_Size10_Regula_Regusize10_IPE1e-0_UEA1e-0_0.05.txt'\n",
    "path3_4 = 'log/ML-100K/EON/ML-100K_A-approx_Size10_Regula_Regusize50_IPE1e-0_UEA1e-0_0.05.txt'\n",
    "path4_4 = 'log/ML-100K/EON/ML-100K_A-approx_Size10_Regula_Regusize250_IPE1e-0_UEA1e-0_0.05.txt'\n",
    "\n",
    "path1_5 = 'log/ML-100K/EON/ML-100K_A-pop_Size50_Regula_Regusize5_IPE1e-0_UEA1e-0_0.05.txt'\n",
    "path2_5 = 'log/ML-100K/EON/ML-100K_A-pop_Size50_Regula_Regusize10_IPE1e-0_UEA1e-0_0.05.txt'\n",
    "path3_5 = 'log/ML-100K/EON/ML-100K_A-pop_Size50_Regula_Regusize50_IPE1e-0_UEA1e-0_0.05.txt'\n",
    "path4_5 = 'log/ML-100K/EON/ML-100K_A-pop_Size50_Regula_Regusize250_IPE1e-0_UEA1e-0_0.05.txt'\n",
    "\n",
    "path_list4 = [path1_4,path2_4,path3_4,path4_4]\n",
    "perform4 = metric(path_list4,epoch=151)\n",
    "\n",
    "path_list5 = [path1_5,path2_5,path3_5,path4_5]\n",
    "perform5 = metric(path_list5,epoch=151)"
   ]
  },
  {
   "cell_type": "code",
   "execution_count": null,
   "metadata": {},
   "outputs": [],
   "source": [
    "import numpy as np\n",
    "import matplotlib.pyplot as plt\n",
    "\n",
    "# 假设您已经定义了perform4和perform5数组\n",
    "PIECKIPE_ER = perform4[1]\n",
    "PIECKIPE_HR = perform4[0]\n",
    "PIECKUEA_ER = perform5[1]\n",
    "PIECKUEA_HR = perform5[0]\n",
    "\n",
    "# Define the range and number of data points\n",
    "start_val = 1\n",
    "end_val = 15\n",
    "num_points = 4\n",
    "\n",
    "# Create an equally spaced array of data points\n",
    "x_values = np.linspace(start_val, end_val, num_points)\n",
    "\n",
    "# x轴标签仍保持为1、5、10和15\n",
    "x_labels = [5, 10, 50, 250]\n",
    "\n",
    "noattack_hr = 0.5716\n",
    "\n",
    "fig, ax1 = plt.subplots(figsize=(4, 4))\n",
    "\n",
    "# Plot HR\n",
    "bar_width = 1\n",
    "ax2 = ax1.twinx()\n",
    "ax2.bar(np.subtract(x_values, bar_width/2), PIECKIPE_HR, width=bar_width, color='#C1C1C1', edgecolor=\"black\", hatch='///', align='center', label='PIECKIPE[HR]')\n",
    "ax2.bar(np.add(x_values, bar_width/2), PIECKUEA_HR, width=bar_width, color='#C1C1C1', edgecolor=\"black\", hatch='O', align='center', label='PIECKUEA[HR]')\n",
    "ax2.set_ylabel(\"HR@10\")\n",
    "ax2.axhline(y=noattack_hr, color='#8B0000', linewidth=1.5, linestyle='--', label='NoAttack[HR]')\n",
    "ax2.legend(loc='lower right', bbox_to_anchor=(0.6, 0.0))\n",
    "ax2.set_ylim(-0.0, 1.00)\n",
    "\n",
    "# Plot ER\n",
    "ax1.plot(x_values, PIECKIPE_ER, color='#0063B1', linewidth=1, linestyle='-', marker='^', markersize=14, markeredgecolor='black', markeredgewidth=1, markerfacecolor='white', label='PIECKIPE[ER]')\n",
    "ax1.plot(x_values, PIECKUEA_ER, color='#0063B1', linewidth=1, linestyle='-', marker='o', markersize=14, markeredgecolor='black', markeredgewidth=1, markerfacecolor='white', label='PIECKUEA[ER]')\n",
    "ax1.set_xlabel(\"Mined Popular Item Number ($N$) \")\n",
    "ax1.set_ylabel(\"ER@10\")\n",
    "ax1.set_xticks(x_values)  # 使用x_values作为x轴的数据点\n",
    "ax1.set_xticklabels(x_labels)  # 使用x_labels作为x轴的标签\n",
    "ax1.legend(loc='lower right', bbox_to_anchor=(0.6, 0.25), labelspacing=0.7)\n",
    "ax1.set_ylim(-0.05, 1.00)\n",
    "\n",
    "# Move ER plot and legend to the foreground\n",
    "ax1.set_zorder(ax2.get_zorder() + 1)\n",
    "ax1.patch.set_visible(False)\n",
    "\n",
    "ax1.grid(alpha=0.3)\n",
    "# ax2.grid(alpha=0.3)\n",
    "plt.tight_layout()\n",
    "plt.savefig(\"attack_n_mf_ml-100k.pdf\")\n",
    "plt.show()\n"
   ]
  },
  {
   "cell_type": "code",
   "execution_count": null,
   "metadata": {},
   "outputs": [],
   "source": [
    "def metric_K(path_list,epoch=2):\n",
    "    perform = np.zeros([len(path_list),2,3])\n",
    "    idx = np.arange(1,epoch,1)\n",
    "    for i in range(len(path_list)):\n",
    "        data = np.array(process(path_list[i]))\n",
    "        for k in range(3): # 3表示ER@K里K是几个\n",
    "            att_data = data[idx][:,7+k].astype(float)\n",
    "            rs_data = data[idx][:,4+k].astype(float)\n",
    "            rs_max = max(rs_data)\n",
    "            perform[i][0][k] = rs_max\n",
    "            rs_max_idx = np.where(rs_data == rs_max)[0][-1]\n",
    "            att_in_rs_max = att_data[rs_max_idx]\n",
    "            perform[i][1][k] = att_in_rs_max\n",
    "    return perform"
   ]
  },
  {
   "cell_type": "code",
   "execution_count": null,
   "metadata": {},
   "outputs": [],
   "source": [
    "path1_0 = 'log/ML-100K/EOK/ML-100K_NoAttack_NoDefense_0.05_Size10.txt'\n",
    "path2_0 = 'log/ML-100K/EOK/ML-100K_A-hum_NoDefense_0.05_Size10.txt'\n",
    "path3_0 = 'log/ML-100K/EOK/ML-100K_A-approx_NoDefense_0.05_Size10.txt'\n",
    "path4_0 = 'log/ML-100K/EOK/ML-100K_A-pop_NoDefense_0.05_Size50.txt'\n",
    "\n",
    "\n",
    "path_list0 = [path1_0,path2_0,path3_0,path4_0]\n",
    "perform0 = metric_K(path_list0,epoch=151)\n",
    "np.round(perform0*100, decimals=2)\n"
   ]
  },
  {
   "cell_type": "code",
   "execution_count": null,
   "metadata": {},
   "outputs": [],
   "source": [
    "perform0"
   ]
  },
  {
   "cell_type": "code",
   "execution_count": null,
   "metadata": {},
   "outputs": [],
   "source": [
    "from tabulate import tabulate\n",
    "\n",
    "# Data\n",
    "data = [\n",
    "    [\"NoAttack\", NoAttack_ER, NoAttack_HR],\n",
    "    [\"AHUM\", AHUM_ER, AHUM_HR],\n",
    "    [\"PIECKIPE\", PIECKIPE_ER, PIECKIPE_HR],\n",
    "    [\"PIECKUEA\", PIECKUEA_ER, PIECKUEA_HR]\n",
    "]\n",
    "\n",
    "# Column headers\n",
    "headers = [\"Method\", \"ER@10\", \"HR@10\"]\n",
    "\n",
    "# Generate the LaTeX table\n",
    "latex_table = tabulate(data, headers=headers, tablefmt=\"latex\")\n",
    "\n",
    "# Print the LaTeX table\n",
    "print(latex_table)\n"
   ]
  },
  {
   "cell_type": "code",
   "execution_count": null,
   "metadata": {},
   "outputs": [],
   "source": [
    "conda install tabulate"
   ]
  },
  {
   "cell_type": "code",
   "execution_count": null,
   "metadata": {},
   "outputs": [],
   "source": [
    "from tabulate import tabulate\n",
    "\n",
    "# Data\n",
    "data = [\n",
    "    [\"Method\", \"5\", \"10\", \"20\"],\n",
    "    [\"NoAttack\", NoAttack_ER, NoAttack_HR],\n",
    "    [\"AHUM\", AHUM_ER, AHUM_HR],\n",
    "    [\"PIECKIPE\", PIECKIPE_ER, PIECKIPE_HR],\n",
    "    [\"PIECKUEA\", PIECKUEA_ER, PIECKUEA_HR]\n",
    "]\n",
    "\n",
    "# Generate the LaTeX table\n",
    "latex_table = tabulate(data, tablefmt=\"latex\")\n",
    "\n",
    "# Print the LaTeX table\n",
    "print(latex_table)\n"
   ]
  },
  {
   "cell_type": "code",
   "execution_count": null,
   "metadata": {},
   "outputs": [],
   "source": [
    "from tabulate import tabulate\n",
    "\n",
    "# Data (assuming the data is multiplied by 100 before this step)\n",
    "data = [\n",
    "    [\"Method\", \"ER@5\", \"HR@5\", \"ER@10\", \"HR@10\", \"ER@20\", \"HR@20\"],\n",
    "    [\"NoAttack\", NoAttack_ER[0]*100, NoAttack_HR[0]*100, NoAttack_ER[1]*100, NoAttack_HR[1]*100, NoAttack_ER[2]*100, NoAttack_HR[2]*100],\n",
    "    [\"AHUM\", AHUM_ER[0]*100, AHUM_HR[0]*100, AHUM_ER[1]*100, AHUM_HR[1]*100, AHUM_ER[2]*100, AHUM_HR[2]*100],\n",
    "    [\"PIECKIPE\", PIECKIPE_ER[0]*100, PIECKIPE_HR[0]*100, PIECKIPE_ER[1]*100, PIECKIPE_HR[1]*100, PIECKIPE_ER[2]*100, PIECKIPE_HR[2]*100],\n",
    "    [\"PIECKUEA\", PIECKUEA_ER[0]*100, PIECKUEA_HR[0]*100, PIECKUEA_ER[1]*100, PIECKUEA_HR[1]*100, PIECKUEA_ER[2]*100, PIECKUEA_HR[2]*100]\n",
    "]\n",
    "\n",
    "# Generate the LaTeX table\n",
    "latex_table = tabulate(data, tablefmt=\"latex\", floatfmt=\".2f\")\n",
    "\n",
    "# Print the LaTeX table\n",
    "print(latex_table)\n"
   ]
  },
  {
   "cell_type": "code",
   "execution_count": null,
   "metadata": {},
   "outputs": [],
   "source": []
  }
 ],
 "metadata": {
  "kernelspec": {
   "display_name": "Python 3.7.11 ('zj')",
   "language": "python",
   "name": "python3"
  },
  "language_info": {
   "codemirror_mode": {
    "name": "ipython",
    "version": 3
   },
   "file_extension": ".py",
   "mimetype": "text/x-python",
   "name": "python",
   "nbconvert_exporter": "python",
   "pygments_lexer": "ipython3",
   "version": "3.10.9"
  },
  "orig_nbformat": 4,
  "vscode": {
   "interpreter": {
    "hash": "95868fa4147a275f04e865508b83534884a3483a3abbaaec212b7046420d3aaa"
   }
  }
 },
 "nbformat": 4,
 "nbformat_minor": 2
}
